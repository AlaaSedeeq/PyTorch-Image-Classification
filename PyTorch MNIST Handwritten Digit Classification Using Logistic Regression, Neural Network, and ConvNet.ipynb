{
 "cells": [
  {
   "cell_type": "code",
   "execution_count": 11,
   "id": "3f622388",
   "metadata": {},
   "outputs": [],
   "source": [
    "import torch\n",
    "import torch.nn as nn\n",
    "import torch.optim as optim\n",
    "import torch.nn.functional as F\n",
    "from torch.autograd import Variable\n",
    "from torchvision.transforms import transforms\n",
    "import torchvision\n",
    "from torch.utils.tensorboard import SummaryWriter\n",
    "from torchvision.datasets import MNIST\n",
    "from tqdm import tqdm\n",
    "import matplotlib.pyplot as plt\n",
    "import numpy as np\n",
    "\n",
    "%matplotlib inline\n",
    "#Device Config\n",
    "device = torch.device('cuda' if torch.cuda.is_available() else 'cpu')"
   ]
  },
  {
   "cell_type": "code",
   "execution_count": 41,
   "id": "a7c4a847",
   "metadata": {},
   "outputs": [],
   "source": [
    "# Hyper-parameters \n",
    "input_size = 784\n",
    "hidden_size = 500\n",
    "num_classes = 10\n",
    "num_epochs = 5\n",
    "batch_size = 100\n",
    "learning_rate = 0.001"
   ]
  },
  {
   "cell_type": "code",
   "execution_count": 23,
   "id": "5ff41b52",
   "metadata": {},
   "outputs": [],
   "source": [
    "#MNIST DATA \n",
    "#Testing set\n",
    "train_data = MNIST(\n",
    "    root='MNIST_data', \n",
    "    download=True,\n",
    "    train=True,\n",
    "    transform=transforms.Compose([\n",
    "#         transforms.Normalize((0.1307,), (0.3081,))\n",
    "        transforms.ToTensor()]))\n",
    "\n",
    "#Testing set\n",
    "test_data = MNIST(\n",
    "    root='MNIST_data', \n",
    "    download=True,\n",
    "    train=False,\n",
    "    transform=transforms.Compose([\n",
    "#         transforms.Normalize((0.1307,), (0.3081,))\n",
    "        transforms.ToTensor()]))\n",
    "\n",
    "\n",
    "#DATA Loader\n",
    "train_loader = torch.utils.data.DataLoader(dataset=train_data, \n",
    "                                           batch_size=batch_size, \n",
    "                                           shuffle=True)\n",
    "\n",
    "test_loader = torch.utils.data.DataLoader(test_data,\n",
    "                                          batch_size=batch_size,\n",
    "                                          shuffle=True)"
   ]
  },
  {
   "cell_type": "markdown",
   "id": "4bb56467",
   "metadata": {},
   "source": [
    "### Logistic Regression"
   ]
  },
  {
   "cell_type": "code",
   "execution_count": 42,
   "id": "4febbead",
   "metadata": {},
   "outputs": [],
   "source": [
    "class LogisticRegression(torch.nn.Module):\n",
    "    def __init__(self, input_dim=28*28, output_dim=10):\n",
    "        super(LogisticRegression, self).__init__()\n",
    "        self.linear = torch.nn.Linear(input_dim, output_dim)\n",
    "\n",
    "    def forward(self, x):\n",
    "        outputs = self.linear(x)\n",
    "        return outputs"
   ]
  },
  {
   "cell_type": "code",
   "execution_count": 48,
   "id": "718e249b",
   "metadata": {},
   "outputs": [],
   "source": [
    "#create model instance\n",
    "lr_model = LogisticRegression()\n",
    "\n",
    "#define optimizer and criterion\n",
    "optimizer = optim.Adam(lr_model.parameters(), learning_rate)\n",
    "criterion = nn.CrossEntropyLoss().to(device)"
   ]
  },
  {
   "cell_type": "code",
   "execution_count": 43,
   "id": "1d96406e",
   "metadata": {},
   "outputs": [
    {
     "name": "stderr",
     "output_type": "stream",
     "text": [
      "Epoch 1/5, Loss: 0.4924: 100%|███████████████████████████████████████████████████████| 600/600 [00:10<00:00, 57.62it/s]\n",
      "Epoch 2/5, Loss: 0.2725: 100%|███████████████████████████████████████████████████████| 600/600 [00:09<00:00, 61.62it/s]\n",
      "Epoch 3/5, Loss: 0.3258: 100%|███████████████████████████████████████████████████████| 600/600 [00:10<00:00, 57.55it/s]\n",
      "Epoch 4/5, Loss: 0.1889: 100%|███████████████████████████████████████████████████████| 600/600 [00:10<00:00, 57.40it/s]\n",
      "Epoch 5/5, Loss: 0.2601: 100%|███████████████████████████████████████████████████████| 600/600 [00:10<00:00, 56.14it/s]\n"
     ]
    }
   ],
   "source": [
    "#Training\n",
    "total_step = len(train_loader)\n",
    "lr_model.train()\n",
    "\n",
    "for epoch in range(num_epochs):\n",
    "    data = enumerate(train_loader)\n",
    "    \n",
    "    prog_bar = tqdm(range(int(train_data.data.size(0)/batch_size)))\n",
    "    for step in prog_bar: # iter over batches\n",
    "        prog_bar.set_description('Epoch {}/{}, Loss: {:.4f}' \n",
    "                                 .format(epoch+1, num_epochs, loss.item()))\n",
    "        \n",
    "        #move tnsors to the configured device\n",
    "        i, (images, labels) = next(data)\n",
    "        images = images.view(-1, 28*28).to(device)\n",
    "        labels = labels.to(device)\n",
    "        \n",
    "        #forward pass\n",
    "        output = lr_model(images)\n",
    "        loss = criterion(output, labels)\n",
    "    \n",
    "        #backward pass\n",
    "        optimizer.zero_grad()\n",
    "        loss.backward()\n",
    "        optimizer.step()"
   ]
  },
  {
   "cell_type": "code",
   "execution_count": 44,
   "id": "98de9b5d",
   "metadata": {},
   "outputs": [
    {
     "name": "stdout",
     "output_type": "stream",
     "text": [
      "Test Accuracy of the model on the 10000 test images: 92.37 %\n"
     ]
    }
   ],
   "source": [
    "# Test the model\n",
    "lr_model.eval() # eval mode (batchnorm uses moving mean/variance instead of mini-batch mean/variance)\n",
    "with torch.no_grad():\n",
    "    correct = 0\n",
    "    total = 0\n",
    "    for image, label in test_loader:\n",
    "        image = image.view(-1, 28*28).to(device)\n",
    "        label = label.to(device)\n",
    "        output = lr_model(image)\n",
    "        _, predicted = torch.max(output.data, 1)\n",
    "        total += labels.size(0)\n",
    "        correct += (predicted == label).sum().item()\n",
    "    print('Test Accuracy of the model on the 10000 test images: {} %'.format(100 * correct / total))"
   ]
  },
  {
   "cell_type": "code",
   "execution_count": 45,
   "id": "792a590f",
   "metadata": {},
   "outputs": [
    {
     "data": {
      "image/png": "[encoded data removed]",
      "text/plain": [
       "<Figure size 720x720 with 9 Axes>"
      ]
     },
     "metadata": {},
     "output_type": "display_data"
    }
   ],
   "source": [
    "lr_model.eval()\n",
    "data = enumerate(test_loader)\n",
    "# Show Sample Predictions\n",
    "fig = plt.figure(figsize=(10,10))\n",
    "for i in range(9):\n",
    "    _, (images, labels) = next(data)\n",
    "    idx = np.random.randint(0, batch_size, 1)\n",
    "    prediction = lr_model(images[idx].view(-1, 28*28))\n",
    "    plt.subplot(3,3,i+1)\n",
    "    plt.tight_layout()\n",
    "    plt.imshow(np.squeeze(images[idx]), cmap='viridis', interpolation='nearest')\n",
    "    plt.title('Predicted Label : '+str(prediction.data.max(1, keepdim=True)[1].item()),fontsize=15)\n",
    "    plt.xticks([])\n",
    "    plt.yticks([])"
   ]
  },
  {
   "cell_type": "markdown",
   "id": "eac65173",
   "metadata": {},
   "source": [
    "### Neural Net"
   ]
  },
  {
   "cell_type": "code",
   "execution_count": 46,
   "id": "547fc4f2",
   "metadata": {},
   "outputs": [],
   "source": [
    "# 'class NN(nn.Module)' refers to the fact that this is a subclass of nn.Module and is inheriting all methods. \n",
    "class NN(nn.Module):\n",
    "    def __init__(self, input_size, hidden_size, num_classes):\n",
    "        # In the super class,nn.Module, there is a '__call__' method which obtains the forward function from \n",
    "        # the subclass and calls it\n",
    "        super(NN, self).__init__()\n",
    "        self.fc1 = nn.Linear(input_size, hidden_size)\n",
    "        self.dropout = nn.Dropout(p=0.2)\n",
    "        self.ReLU = nn.ReLU()\n",
    "        self.fc2 = nn.Linear(hidden_size, num_classes)\n",
    "        \n",
    "    def forward(self, x):\n",
    "        out = self.fc1(x)\n",
    "        out = self.ReLU(out)\n",
    "        out = self.dropout(out)\n",
    "        out = self.fc2(out)\n",
    "        return out"
   ]
  },
  {
   "cell_type": "code",
   "execution_count": 47,
   "id": "05674d46",
   "metadata": {},
   "outputs": [],
   "source": [
    "#create model instance\n",
    "nn_model = NN(input_size, hidden_size, num_classes).to(device)\n",
    "\n",
    "#define optimizer and criterion\n",
    "optimizer = optim.Adam(nn_model.parameters(), learning_rate)\n",
    "criterion = nn.CrossEntropyLoss().to(device)"
   ]
  },
  {
   "cell_type": "code",
   "execution_count": 8,
   "id": "f63ec126",
   "metadata": {
    "scrolled": true
   },
   "outputs": [
    {
     "name": "stderr",
     "output_type": "stream",
     "text": [
      "Epoch [1/5], Step [600/600], Loss: 0.1666: 100%|█████████████████████████████████████| 600/600 [00:12<00:00, 48.52it/s]\n",
      "Epoch [2/5], Step [600/600], Loss: 0.0779: 100%|█████████████████████████████████████| 600/600 [00:14<00:00, 41.41it/s]\n",
      "Epoch [3/5], Step [600/600], Loss: 0.1180: 100%|█████████████████████████████████████| 600/600 [00:14<00:00, 42.57it/s]\n",
      "Epoch [4/5], Step [600/600], Loss: 0.0732: 100%|█████████████████████████████████████| 600/600 [00:13<00:00, 44.95it/s]\n",
      "Epoch [5/5], Step [600/600], Loss: 0.0339: 100%|█████████████████████████████████████| 600/600 [00:13<00:00, 44.03it/s]\n"
     ]
    }
   ],
   "source": [
    "#Training\n",
    "total_step = len(train_loader)\n",
    "for epoch in range(num_epochs):\n",
    "    data = enumerate(train_loader)\n",
    "    prog_bar = tqdm(range(int(train_data.data.size(0)/batch_size)))\n",
    "    for step in prog_bar: # iter over batches\n",
    "        prog_bar.set_description('Epoch {}/{}, Loss: {:.4f}' \n",
    "                                 .format(epoch+1, num_epochs, loss.item()))\n",
    "        #move tnsors to the configured device\n",
    "        i, (images, labels) = next(data)\n",
    "        images = images.view(-1, 28*28).to(device)\n",
    "        labels = labels.to(device)\n",
    "        \n",
    "        #forward pass\n",
    "        output = nn_model(images)\n",
    "        loss = criterion(output, labels)\n",
    "        \n",
    "        #backward pass\n",
    "        optimizer.zero_grad()\n",
    "        loss.backward()\n",
    "        optimizer.step()"
   ]
  },
  {
   "cell_type": "code",
   "execution_count": 9,
   "id": "61fc7524",
   "metadata": {},
   "outputs": [
    {
     "name": "stdout",
     "output_type": "stream",
     "text": [
      "Accuracy of the network on the 10000 test images: 97.58 %\n"
     ]
    }
   ],
   "source": [
    "# Test the model\n",
    "# In test phase, we don't need to compute gradients (for memory efficiency)\n",
    "with torch.no_grad():\n",
    "    correct = 0\n",
    "    total = 0\n",
    "    for images, labels in test_loader: #doesn't matter if test_loader has batch_size\n",
    "#         print(images.shape)\n",
    "        images = images.reshape(-1, 28*28).to(device)\n",
    "        labels = labels.to(device)\n",
    "        outputs = nn_model(images)\n",
    "        _, predicted = torch.max(outputs.data, 1)\n",
    "        total += labels.size(0)\n",
    "        correct += (predicted == labels).sum().item()\n",
    "\n",
    "    print('Accuracy of the network on the 10000 test images: {} %'.format(100 * correct / total))"
   ]
  },
  {
   "cell_type": "code",
   "execution_count": 11,
   "id": "dfaf6a8f",
   "metadata": {},
   "outputs": [
    {
     "data": {
      "image/png": "[encoded data removed]",
      "text/plain": [
       "<Figure size 720x720 with 9 Axes>"
      ]
     },
     "metadata": {},
     "output_type": "display_data"
    }
   ],
   "source": [
    "data = enumerate(test_loader)\n",
    "# Show Sample Predictions\n",
    "fig = plt.figure(figsize=(10,10))\n",
    "for idx in range(9):\n",
    "    _, (img, labels) = next(data)\n",
    "    nn_model.eval()\n",
    "    prediction = nn_model(img.view(-1, 28*28))\n",
    "    plt.subplot(3,3,idx+1)\n",
    "    plt.tight_layout()\n",
    "    plt.imshow(np.squeeze(img), cmap='viridis')\n",
    "    plt.title('Predicted Label : '+str(prediction.data.max(1, keepdim=True)[1].item()),fontsize=20)\n",
    "    plt.xticks([])\n",
    "    plt.yticks([])"
   ]
  },
  {
   "cell_type": "markdown",
   "id": "a7896ebf",
   "metadata": {},
   "source": [
    "### ConvNet"
   ]
  },
  {
   "cell_type": "code",
   "execution_count": 9,
   "id": "1681c674",
   "metadata": {},
   "outputs": [],
   "source": [
    "class ConvNet(nn.Module):\n",
    "    def __init__(self, input_shape=(1, 28, 28)):\n",
    "        super(ConvNet, self).__init__()\n",
    "        self.ch, self.h, self.w = input_shape\n",
    "        self.layer1 = nn.Sequential(\n",
    "            nn.Conv2d(self.ch, 32, kernel_size=5, stride=1, padding=2),\n",
    "            nn.BatchNorm2d(32),\n",
    "            nn.ReLU(),\n",
    "            nn.MaxPool2d(kernel_size=2, stride=2)\n",
    "        )\n",
    "        self.layer2 = nn.Sequential(\n",
    "            nn.Conv2d(32, 32, kernel_size=5, stride=1, padding=2),\n",
    "            nn.BatchNorm2d(32),\n",
    "            nn.ReLU(),\n",
    "            nn.MaxPool2d(kernel_size=2, stride=2)\n",
    "        )\n",
    "        self.drpout = nn.Dropout(0.25)\n",
    "        n_size = self._get_conv_output(input_shape)\n",
    "        self.fc1 = nn.Linear(n_size, 50)\n",
    "        self.fc2 = nn.Linear(50, num_classes)\n",
    "        \n",
    "#     # generate input sample and forward to get shape\n",
    "#     def _get_conv_output(self, shape):\n",
    "#         bs = 1\n",
    "#         input = Variable(torch.rand(bs, *shape))\n",
    "#         output_feat = self._forward_features(input)\n",
    "#         n_size = output_feat.data.view(bs, -1).size(1)\n",
    "#         return n_size\n",
    "    \n",
    "    def _get_conv_output(self, shape):\n",
    "        bs = 1\n",
    "        dummy_x = torch.empty(bs, *shape)\n",
    "        x = self._forward_features(dummy_x)\n",
    "        CNN_outshape = x.flatten(1).size(1)\n",
    "        return CNN_outshape\n",
    "\n",
    "    def _forward_features(self, x):\n",
    "        x = self.layer1(x)\n",
    "        x = self.layer2(x)\n",
    "        return x\n",
    "    \n",
    "    def forward(self, x):\n",
    "        out = self.layer1(x)\n",
    "        out = self.layer2(out)\n",
    "        out = out.view(out.size(0), -1)\n",
    "        out = self.fc1(out)\n",
    "        out = self.drpout(out)\n",
    "        out = self.fc2(out)\n",
    "        return out"
   ]
  },
  {
   "cell_type": "code",
   "execution_count": 49,
   "id": "061e86d3",
   "metadata": {},
   "outputs": [],
   "source": [
    "#create model instance\n",
    "cnn_model = ConvNet()\n",
    "\n",
    "#define optimizer and criterion\n",
    "optimizer = optim.Adam(cnn_model.parameters(), learning_rate)\n",
    "criterion = nn.CrossEntropyLoss().to(device)"
   ]
  },
  {
   "cell_type": "code",
   "execution_count": 22,
   "id": "0b4be101",
   "metadata": {},
   "outputs": [
    {
     "name": "stderr",
     "output_type": "stream",
     "text": [
      "Epoch 1/5, Loss: 0.0327: 100%|███████████████████████████████████████████████████████| 600/600 [01:52<00:00,  5.35it/s]\n",
      "Epoch 2/5, Loss: 0.0677: 100%|███████████████████████████████████████████████████████| 600/600 [01:45<00:00,  5.66it/s]\n",
      "Epoch 3/5, Loss: 0.0698: 100%|███████████████████████████████████████████████████████| 600/600 [01:49<00:00,  5.50it/s]\n",
      "Epoch 4/5, Loss: 0.0291: 100%|███████████████████████████████████████████████████████| 600/600 [01:56<00:00,  5.14it/s]\n",
      "Epoch 5/5, Loss: 0.0226: 100%|███████████████████████████████████████████████████████| 600/600 [02:05<00:00,  4.79it/s]\n"
     ]
    }
   ],
   "source": [
    "#Training\n",
    "total_step = len(train_loader)\n",
    "cnn_model.train()\n",
    "\n",
    "for epoch in range(num_epochs):\n",
    "    data = enumerate(train_loader)\n",
    "    \n",
    "    prog_bar = tqdm(range(int(train_data.data.size(0)/batch_size)))\n",
    "    for step in prog_bar: # iter over batches\n",
    "        prog_bar.set_description('Epoch {}/{}, Loss: {:.4f}' \n",
    "                                 .format(epoch+1, num_epochs, loss.item()))\n",
    "        #move tnsors to the configured device\n",
    "        i, (images, labels) = next(data)\n",
    "        images = images.to(device)\n",
    "        labels = labels.to(device)\n",
    "        \n",
    "        #forward pass\n",
    "        output = cnn_model(images)\n",
    "        loss = criterion(output, labels)\n",
    "        \n",
    "        #backward pass\n",
    "        optimizer.zero_grad()\n",
    "        loss.backward()\n",
    "        optimizer.step()        "
   ]
  },
  {
   "cell_type": "code",
   "execution_count": 24,
   "id": "d40360db",
   "metadata": {},
   "outputs": [
    {
     "name": "stdout",
     "output_type": "stream",
     "text": [
      "Test Accuracy of the model on the 10000 test images: 99.08 %\n"
     ]
    }
   ],
   "source": [
    "# Test the model\n",
    "cnn_model.eval() # eval mode (batchnorm uses moving mean/variance instead of mini-batch mean/variance)\n",
    "with torch.no_grad():\n",
    "    correct = 0\n",
    "    total = 0\n",
    "    for image, label in test_loader:\n",
    "        image = image.to(device)\n",
    "        label = label.to(device)\n",
    "        output = cnn_model(image)\n",
    "        _, predicted = torch.max(output.data, 1)\n",
    "        total += label.size(0)\n",
    "        correct += (predicted == label).sum().item()\n",
    "    print('Test Accuracy of the model on the 10000 test images: {} %'.format(100 * correct / total))"
   ]
  },
  {
   "cell_type": "code",
   "execution_count": 28,
   "id": "7f639d2f",
   "metadata": {},
   "outputs": [
    {
     "data": {
      "image/png": "[encoded data removed]",
      "text/plain": [
       "<Figure size 720x720 with 9 Axes>"
      ]
     },
     "metadata": {},
     "output_type": "display_data"
    }
   ],
   "source": [
    "cnn_model.eval()\n",
    "data = enumerate(test_loader)\n",
    "# Show Sample Predictions\n",
    "fig = plt.figure(figsize=(10,10))\n",
    "for i in range(9):\n",
    "    _, (images, labels) = next(data)\n",
    "    idx = np.random.randint(0,batch_size,1)\n",
    "    prediction = cnn_model(images[idx])\n",
    "    plt.subplot(3,3,i+1)\n",
    "    plt.tight_layout()\n",
    "    plt.imshow(np.squeeze(images[idx]), cmap='viridis')\n",
    "    plt.title('Predicted Label : '+str(prediction.data.max(1, keepdim=True)[1].item()),fontsize=20)\n",
    "    plt.xticks([])\n",
    "    plt.yticks([])"
   ]
  }
 ],
 "metadata": {
  "kernelspec": {
   "display_name": "Python 3",
   "language": "python",
   "name": "python3"
  },
  "language_info": {
   "codemirror_mode": {
    "name": "ipython",
    "version": 3
   },
   "file_extension": ".py",
   "mimetype": "text/x-python",
   "name": "python",
   "nbconvert_exporter": "python",
   "pygments_lexer": "ipython3",
   "version": "3.8.8"
  }
 },
 "nbformat": 4,
 "nbformat_minor": 5
}
